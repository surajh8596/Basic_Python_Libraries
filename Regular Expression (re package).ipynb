{
 "cells": [
  {
   "cell_type": "code",
   "execution_count": 5,
   "id": "fbf09686",
   "metadata": {},
   "outputs": [],
   "source": [
    "import re"
   ]
  },
  {
   "cell_type": "code",
   "execution_count": 17,
   "id": "7828ef9a",
   "metadata": {},
   "outputs": [],
   "source": [
    "text='''Modern humans arrived on the Indian subcontinent from Africa no later than 55,000 years ago.\n",
    "Their long occupation, initially in varying forms of isolation as hunter-gatherers, has made\n",
    "the region highly diverse, second only to Africa in human genetic diversity. Settled life\n",
    "emerged on the subcontinent in the western margins of the Indus river basin 9,000 years ago,\n",
    "evolving gradually into the Indus Valley Civilisation of the third millennium BCE. By 1200 BCE,\n",
    "an archaic form of Sanskrit, an Indo-European language, had diffused into India from the northwest.\n",
    "Its evidence today is found in the hymns of the Rigveda. Preserved by a resolutely vigilant oral\n",
    "tradition, the Rigveda records the dawning of Hinduism in India. The Dravidian languages of\n",
    "India were supplanted in the northern and western regions. By 400 BCE, stratification and exclusion\n",
    "by caste had emerged within Hinduism, and Buddhism and Jainism had arisen, proclaiming social orders\n",
    "unlinked to heredity.\n",
    "My name is Indian Human Living in Jungle hahahahaha, aaaaaaaaaaah, my house number 8938382832,\n",
    "my phone number is +916437987634 or 7336372187, gmail is triggeredinsan@gmail.com.'''"
   ]
  },
  {
   "cell_type": "markdown",
   "id": "5b4e39c4",
   "metadata": {},
   "source": [
    "### search"
   ]
  },
  {
   "cell_type": "code",
   "execution_count": 6,
   "id": "ae1c5493",
   "metadata": {},
   "outputs": [
    {
     "data": {
      "text/plain": [
       "<re.Match object; span=(8, 13), match='human'>"
      ]
     },
     "execution_count": 6,
     "metadata": {},
     "output_type": "execute_result"
    }
   ],
   "source": [
    "re.search(r\"humans\", text, re.I) #re.I makes the data insensitive"
   ]
  },
  {
   "cell_type": "code",
   "execution_count": 7,
   "id": "29d3a017",
   "metadata": {},
   "outputs": [
    {
     "data": {
      "text/plain": [
       "<re.Match object; span=(8, 13), match='human'>"
      ]
     },
     "execution_count": 7,
     "metadata": {},
     "output_type": "execute_result"
    }
   ],
   "source": [
    "re.search(r\"human\", text) #re.I makes the data insensitive"
   ]
  },
  {
   "cell_type": "markdown",
   "id": "b182f133",
   "metadata": {},
   "source": [
    "### match"
   ]
  },
  {
   "cell_type": "code",
   "execution_count": 11,
   "id": "20ddc9cd",
   "metadata": {},
   "outputs": [],
   "source": [
    "re.match(r\"Indian\",text, re.I)"
   ]
  },
  {
   "cell_type": "code",
   "execution_count": 18,
   "id": "d1a73fd6",
   "metadata": {},
   "outputs": [
    {
     "data": {
      "text/plain": [
       "<re.Match object; span=(0, 6), match='Modern'>"
      ]
     },
     "execution_count": 18,
     "metadata": {},
     "output_type": "execute_result"
    }
   ],
   "source": [
    "re.match(r\"Modern\", text, re.I)"
   ]
  },
  {
   "cell_type": "raw",
   "id": "1183a4ba",
   "metadata": {},
   "source": [
    "Search & Match\n",
    "Search- it search in entire text, and if it find searching text then it return match.\n",
    "Match- it search in first place in text."
   ]
  },
  {
   "cell_type": "markdown",
   "id": "a6442e76",
   "metadata": {},
   "source": [
    "### sub"
   ]
  },
  {
   "cell_type": "code",
   "execution_count": 19,
   "id": "a32884fc",
   "metadata": {},
   "outputs": [
    {
     "data": {
      "text/plain": [
       "'i brought new BMW and Maruti and this BMW and Maruti was awsome'"
      ]
     },
     "execution_count": 19,
     "metadata": {},
     "output_type": "execute_result"
    }
   ],
   "source": [
    "text=\"I brought new Audi and this audi was awsome\"\n",
    "re.sub(\"audi\",\"BMW and Maruti\",text.lower())"
   ]
  },
  {
   "cell_type": "markdown",
   "id": "fa4514a5",
   "metadata": {},
   "source": [
    "### findall"
   ]
  },
  {
   "cell_type": "code",
   "execution_count": 27,
   "id": "75d8e0e7",
   "metadata": {},
   "outputs": [
    {
     "data": {
      "text/plain": [
       "['I',\n",
       " 'a',\n",
       " 'm',\n",
       " 'L',\n",
       " 'i',\n",
       " 'v',\n",
       " 'i',\n",
       " 'n',\n",
       " 'g',\n",
       " 'i',\n",
       " 'n',\n",
       " 'h',\n",
       " 'e',\n",
       " 'l',\n",
       " 'l',\n",
       " 'o',\n",
       " 'f',\n",
       " 't',\n",
       " 'r',\n",
       " 'a',\n",
       " 'u',\n",
       " 'm',\n",
       " 'a',\n",
       " 'h',\n",
       " 'a',\n",
       " 'h',\n",
       " 'a',\n",
       " 'h',\n",
       " 'a',\n",
       " 'h',\n",
       " 'a',\n",
       " 'h',\n",
       " 'a',\n",
       " 't',\n",
       " 'h',\n",
       " 'a',\n",
       " 't',\n",
       " 's',\n",
       " 'j',\n",
       " 'o',\n",
       " 'k',\n",
       " 'e',\n",
       " 'o',\n",
       " 'n',\n",
       " 'm',\n",
       " 'a',\n",
       " 'y']"
      ]
     },
     "execution_count": 27,
     "metadata": {},
     "output_type": "execute_result"
    }
   ],
   "source": [
    "text=\"I am Living in hell of  trauma hahahahaha thats joke on 8 may 1998 @$^/&342\"\n",
    "re.findall(r\"[a-zA-Z]\" , text)"
   ]
  },
  {
   "cell_type": "code",
   "execution_count": 28,
   "id": "64f11c00",
   "metadata": {},
   "outputs": [
    {
     "data": {
      "text/plain": [
       "['8', '1', '9', '9', '8', '3', '4', '2']"
      ]
     },
     "execution_count": 28,
     "metadata": {},
     "output_type": "execute_result"
    }
   ],
   "source": [
    "text=\"I am Living in hell of  trauma hahahahaha thats joke on 8 may 1998 @$^/&342\"\n",
    "re.findall(r\"[0-9]\" , text)"
   ]
  },
  {
   "cell_type": "code",
   "execution_count": 29,
   "id": "1b1dd956",
   "metadata": {},
   "outputs": [
    {
     "data": {
      "text/plain": [
       "['I',\n",
       " '',\n",
       " 'am',\n",
       " '',\n",
       " 'Living',\n",
       " '',\n",
       " 'in',\n",
       " '',\n",
       " 'hell',\n",
       " '',\n",
       " 'of',\n",
       " '',\n",
       " '',\n",
       " 'trauma',\n",
       " '',\n",
       " 'hahahahaha',\n",
       " '',\n",
       " 'thats',\n",
       " '',\n",
       " 'joke',\n",
       " '',\n",
       " 'on',\n",
       " '',\n",
       " '',\n",
       " '',\n",
       " 'may',\n",
       " '',\n",
       " '',\n",
       " '',\n",
       " '',\n",
       " '',\n",
       " '',\n",
       " '',\n",
       " '',\n",
       " '',\n",
       " '',\n",
       " '',\n",
       " '',\n",
       " '',\n",
       " '',\n",
       " '']"
      ]
     },
     "execution_count": 29,
     "metadata": {},
     "output_type": "execute_result"
    }
   ],
   "source": [
    "text=\"I am Living in hell of  trauma hahahahaha thats joke on 8 may 1998 @$^/&342\"\n",
    "re.findall(r\"[a-zA-Z]*\" , text)"
   ]
  },
  {
   "cell_type": "code",
   "execution_count": 32,
   "id": "10a8b231",
   "metadata": {},
   "outputs": [
    {
     "data": {
      "text/plain": [
       "['I',\n",
       " 'am',\n",
       " 'Living',\n",
       " 'in',\n",
       " 'hell',\n",
       " 'of',\n",
       " 'trauma',\n",
       " 'hahahahaha',\n",
       " 'thats',\n",
       " 'joke',\n",
       " 'on',\n",
       " 'may']"
      ]
     },
     "execution_count": 32,
     "metadata": {},
     "output_type": "execute_result"
    }
   ],
   "source": [
    "text=\"I am Living in hell of  trauma hahahahaha thats joke on 8 may 1998 @$^/&342\"\n",
    "re.findall(r\"[a-zA-Z]+\" , text)"
   ]
  },
  {
   "cell_type": "code",
   "execution_count": 33,
   "id": "72e1b003",
   "metadata": {},
   "outputs": [
    {
     "data": {
      "text/plain": [
       "['I',\n",
       " '',\n",
       " 'a',\n",
       " 'm',\n",
       " '',\n",
       " 'L',\n",
       " 'i',\n",
       " 'v',\n",
       " 'i',\n",
       " 'n',\n",
       " 'g',\n",
       " '',\n",
       " 'i',\n",
       " 'n',\n",
       " '',\n",
       " 'h',\n",
       " 'e',\n",
       " 'l',\n",
       " 'l',\n",
       " '',\n",
       " 'o',\n",
       " 'f',\n",
       " '',\n",
       " '',\n",
       " 't',\n",
       " 'r',\n",
       " 'a',\n",
       " 'u',\n",
       " 'm',\n",
       " 'a',\n",
       " '',\n",
       " 'h',\n",
       " 'a',\n",
       " 'h',\n",
       " 'a',\n",
       " 'h',\n",
       " 'a',\n",
       " 'h',\n",
       " 'a',\n",
       " 'h',\n",
       " 'a',\n",
       " '',\n",
       " 't',\n",
       " 'h',\n",
       " 'a',\n",
       " 't',\n",
       " 's',\n",
       " '',\n",
       " 'j',\n",
       " 'o',\n",
       " 'k',\n",
       " 'e',\n",
       " '',\n",
       " 'o',\n",
       " 'n',\n",
       " '',\n",
       " '',\n",
       " '',\n",
       " 'm',\n",
       " 'a',\n",
       " 'y',\n",
       " '',\n",
       " '',\n",
       " '',\n",
       " '',\n",
       " '',\n",
       " '',\n",
       " '',\n",
       " '',\n",
       " '',\n",
       " '',\n",
       " '',\n",
       " '',\n",
       " '',\n",
       " '',\n",
       " '']"
      ]
     },
     "execution_count": 33,
     "metadata": {},
     "output_type": "execute_result"
    }
   ],
   "source": [
    "text=\"I am Living in hell of  trauma hahahahaha thats joke on 8 may 1998 @$^/&342\"\n",
    "re.findall(r\"[a-zA-Z]?\" , text)"
   ]
  },
  {
   "cell_type": "code",
   "execution_count": 31,
   "id": "91310eaf",
   "metadata": {},
   "outputs": [
    {
     "data": {
      "text/plain": [
       "['8', '1998', '342']"
      ]
     },
     "execution_count": 31,
     "metadata": {},
     "output_type": "execute_result"
    }
   ],
   "source": [
    "text=\"I am Living in hell of  trauma hahahahaha thats joke on 8 may 1998 @$^/&342\"\n",
    "re.findall(r\"[0-9]+\", text)"
   ]
  },
  {
   "cell_type": "code",
   "execution_count": 34,
   "id": "7991b570",
   "metadata": {},
   "outputs": [
    {
     "data": {
      "text/plain": [
       "['',\n",
       " '',\n",
       " '',\n",
       " '',\n",
       " '',\n",
       " '',\n",
       " '',\n",
       " '',\n",
       " '',\n",
       " '',\n",
       " '',\n",
       " '',\n",
       " '',\n",
       " '',\n",
       " '',\n",
       " '',\n",
       " '',\n",
       " '',\n",
       " '',\n",
       " '',\n",
       " '',\n",
       " '',\n",
       " '',\n",
       " '',\n",
       " '',\n",
       " '',\n",
       " '',\n",
       " '',\n",
       " '',\n",
       " '',\n",
       " '',\n",
       " '',\n",
       " '',\n",
       " '',\n",
       " '',\n",
       " '',\n",
       " '',\n",
       " '',\n",
       " '',\n",
       " '',\n",
       " '',\n",
       " '',\n",
       " '',\n",
       " '',\n",
       " '',\n",
       " '',\n",
       " '',\n",
       " '',\n",
       " '',\n",
       " '',\n",
       " '',\n",
       " '',\n",
       " '',\n",
       " '',\n",
       " '',\n",
       " '',\n",
       " '8',\n",
       " '',\n",
       " '',\n",
       " '',\n",
       " '',\n",
       " '',\n",
       " '1998',\n",
       " '',\n",
       " '',\n",
       " '',\n",
       " '',\n",
       " '',\n",
       " '',\n",
       " '342',\n",
       " '']"
      ]
     },
     "execution_count": 34,
     "metadata": {},
     "output_type": "execute_result"
    }
   ],
   "source": [
    "text=\"I am Living in hell of  trauma hahahahaha thats joke on 8 may 1998 @$^/&342\"\n",
    "re.findall(r\"[0-9]*\", text)"
   ]
  },
  {
   "cell_type": "code",
   "execution_count": 43,
   "id": "a2e6cc89",
   "metadata": {},
   "outputs": [
    {
     "data": {
      "text/plain": [
       "['8', '1', '9', '9', '8', '3', '4', '2']"
      ]
     },
     "execution_count": 43,
     "metadata": {},
     "output_type": "execute_result"
    }
   ],
   "source": [
    "text=\"I am Living in hell of  trauma hahahahaha thats joke on 8 may 1998 @$^/&342\"\n",
    "re.findall(r\"[0-9]+?\", text)"
   ]
  },
  {
   "cell_type": "code",
   "execution_count": null,
   "id": "a70d73fe",
   "metadata": {},
   "outputs": [],
   "source": []
  }
 ],
 "metadata": {
  "kernelspec": {
   "display_name": "Python 3 (ipykernel)",
   "language": "python",
   "name": "python3"
  },
  "language_info": {
   "codemirror_mode": {
    "name": "ipython",
    "version": 3
   },
   "file_extension": ".py",
   "mimetype": "text/x-python",
   "name": "python",
   "nbconvert_exporter": "python",
   "pygments_lexer": "ipython3",
   "version": "3.9.7"
  }
 },
 "nbformat": 4,
 "nbformat_minor": 5
}
